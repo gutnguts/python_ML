{
 "cells": [
  {
   "cell_type": "code",
   "execution_count": null,
   "metadata": {},
   "outputs": [],
   "source": [
    "# Numpy (Numerical python)    # 수치 처리를 위한 라이브러리\n",
    "# numpy module은 vector, matrix 연산에 있어서 상당한 편리성을 제공\n",
    "\n",
    "# numpy module은 우리에게 기본적인 자료구조를 하나 제공합니다.\n",
    "# ndarray(n-dimensional array)\n",
    "\n",
    "# numpy를 사용하기 위해서는 일단 먼저 module을 다운로드 해야 한다.\n",
    "# anaconda prompt를 실행한다.\n",
    "# conda install numpy\n"
   ]
  },
  {
   "cell_type": "code",
   "execution_count": 73,
   "metadata": {},
   "outputs": [
    {
     "name": "stdout",
     "output_type": "stream",
     "text": [
      "[1, 2, 3, 4]\n",
      "[1 2 3 4]\n",
      "<class 'numpy.ndarray'>\n",
      "int32\n",
      "<class 'numpy.int32'>\n",
      "[[1, 2, 3], [4, 5, 6]]\n",
      "[[1. 2. 3.]\n",
      " [4. 5. 6.]]\n",
      "5.0\n"
     ]
    }
   ],
   "source": [
    "import numpy as np\n",
    "\n",
    "# python의 list\n",
    "a = [1,2,3,4]        # literal(프로그램적 기호를 이용해서 표현)\n",
    "# a = list()         # list라는 class를 이용해서 생성\n",
    "# print(type(a))     # <class 'list'>\n",
    "print(a)           #[1, 2, 3, 4]\n",
    "\n",
    "# numpy의 ndarray\n",
    "b = np.array([1,2,3,4])    #  서로 다른 데이터타입 요소가 들어가면 그 모두를 포함할 수 있는 하나의 데이터타입으로 바꿔버림\n",
    "print(b)               # [1 2 3 4]\n",
    "print(type(b))         # <class 'numpy.ndarray'>\n",
    "print(b.dtype)         # int32\n",
    "\n",
    "# ndarray는 모든 원소가 같은 데이터 타입을 가져야 한다.\n",
    "# list는 모든 원소가 같은 데이터 타입을 가지지 않아도 상관없다.\n",
    "print(type(b[0]))      # <class 'numpy.int32'>\n",
    "\n",
    "# 다차원 ndarray에 대해서 알아보자\n",
    "my_list = [[1,2,3], [4,5,6]]\n",
    "print(my_list)   # [[1,2,3], [4,5,6]]\n",
    "\n",
    "my_array = np.array([[1,2,3], [4,5,6]], dtype=np.float64)   # 사용할 데이터타입을 지정할 수 있음\n",
    "print(my_array)        # [[1 2 3]\n",
    "                       #  [4 5 6]]\n",
    "print(my_array[1,1])   # 5       "
   ]
  },
  {
   "cell_type": "code",
   "execution_count": 24,
   "metadata": {
    "scrolled": false
   },
   "outputs": [
    {
     "name": "stdout",
     "output_type": "stream",
     "text": [
      "1\n",
      "(4,)\n",
      "2\n",
      "(2, 3)\n",
      "[[[ 1  2  3]\n",
      "  [ 4  5  6]]\n",
      "\n",
      " [[ 7  8  9]\n",
      "  [10 11 12]]]\n",
      "3\n",
      "(2, 2, 3)\n"
     ]
    }
   ],
   "source": [
    "# ndarray의 대표적인 속성에 대해서 알아보자\n",
    "# ndim, shape\n",
    "import numpy as np \n",
    "\n",
    "# 1차원\n",
    "my_list = [1,2,3,4]\n",
    "arr = np.array(my_list)\n",
    "\n",
    "print(arr.ndim)     # ndim이라는 속성은 차원의 수를 나타내준다. =>1\n",
    "print(arr.shape)    # 차원과 요소개수를 tuple로 표현 => (4,) (각 차원의 요소의 개수)\n",
    "\n",
    "# 2차원\n",
    "my_list = [[1,2,3], [4,5,6]]\n",
    "arr = np.array(my_list)\n",
    "print(arr.ndim)   # 2\n",
    "print(arr.shape)  # (2,3)\n",
    "\n",
    "# 3차원\n",
    "my_list = [[[1,2,3],[4,5,6]],[[7,8,9],[10,11,12]]]\n",
    "arr = np.array(my_list)\n",
    "print(arr)\n",
    "print(arr.ndim)   # 3\n",
    "print(arr.shape)  # (2,2,3)"
   ]
  },
  {
   "cell_type": "code",
   "execution_count": 29,
   "metadata": {
    "scrolled": true
   },
   "outputs": [
    {
     "name": "stdout",
     "output_type": "stream",
     "text": [
      "shape : (4,)\n",
      "크기(len) : 4\n",
      "크기(size) : 4\n",
      "shape :(2, 3)\n",
      "크기(len) : 2\n",
      "크기(size) : 6\n"
     ]
    }
   ],
   "source": [
    "import numpy as np\n",
    "\n",
    "my_list = [1,2,3,4]\n",
    "arr = np.array(my_list)\n",
    "\n",
    "print('shape : {}'.format(arr.shape))  # (4,)\n",
    "print('크기(len) : {}'.format(len(arr)))  # 4\n",
    "print('크기(size) : {}'.format(arr.size))  # 4 \n",
    "# 1차원은 len과 size가 같은 값을 낸다.\n",
    "\n",
    "my_list = [[1,2,3], [4,5,6]]\n",
    "arr = np.array(my_list)\n",
    "print('shape :{}'.format(arr.shape))      # (2,3)\n",
    "print('크기(len) : {}'.format(len(arr)))  # 2   len은 1차원안에 몇개 있는지를 묻는다.\n",
    "print('크기(size) : {}'.format(arr.size)) # 6    arr안의 모든 요소의 개수를 알려줌\n"
   ]
  },
  {
   "cell_type": "code",
   "execution_count": 35,
   "metadata": {
    "scrolled": true
   },
   "outputs": [
    {
     "name": "stdout",
     "output_type": "stream",
     "text": [
      "[1 2 3 4]\n",
      "[[1 2]\n",
      " [3 4]]\n",
      "[[[1]]\n",
      "\n",
      " [[2]]\n",
      "\n",
      " [[3]]\n",
      "\n",
      " [[4]]]\n",
      "[[[1 2]]\n",
      "\n",
      " [[3 4]]]\n"
     ]
    }
   ],
   "source": [
    "my_list = [1,2,3,4]\n",
    "arr = np.array(my_list)\n",
    "print(arr)\n",
    "\n",
    "# print(arr.shape)  # => (4,)\n",
    "arr.shape = (2,2)              # shape을 2차원 (2,2)배열로 바꿔라\n",
    "print(arr)\n",
    "\n",
    "arr.shape = (4,1,1)\n",
    "print(arr)\n",
    "\n",
    "arr.shape = (2,1,2)   # 하지만 shape을 변경할때는 이렇게 직접적으로\n",
    "                      # shape 속성을 변경하지 않는다.\n",
    "                      # 나중에 reshape() method를 사용할 것이다.\n",
    "print(arr)            # 속성을 직접적으로 제어하기 보다는, 메소드를 통해 제어하는 것이 선호된다,\n"
   ]
  },
  {
   "cell_type": "code",
   "execution_count": 36,
   "metadata": {},
   "outputs": [
    {
     "name": "stdout",
     "output_type": "stream",
     "text": [
      "[1.2 2.3 3.5 4.1 5.7]\n",
      "[1 2 3 4 5]\n"
     ]
    }
   ],
   "source": [
    "# astype() ndarray의 data type을 변경\n",
    "\n",
    "arr = np.array([1.2,2.3,3.5,4.1,5.7])\n",
    "print(arr)\n",
    "\n",
    "arr = arr.astype(np.int32)\n",
    "print(arr)"
   ]
  },
  {
   "cell_type": "code",
   "execution_count": 2,
   "metadata": {},
   "outputs": [
    {
     "name": "stdout",
     "output_type": "stream",
     "text": [
      "[1 2 3 4]\n",
      "[[6.23042070e-307 4.67296746e-307 1.69121096e-306 1.78020848e-306]\n",
      " [7.56587585e-307 1.37961302e-306 1.05699242e-307 1.95821439e-306]\n",
      " [7.56593017e-307 9.34595530e-307 1.24610383e-306 4.46687854e-037]]\n",
      "[[0. 0. 0. 0.]\n",
      " [0. 0. 0. 0.]\n",
      " [0. 0. 0. 0.]]\n",
      "[[0 0 0 0]\n",
      " [0 0 0 0]\n",
      " [0 0 0 0]]\n",
      "[[1. 1. 1. 1.]\n",
      " [1. 1. 1. 1.]\n",
      " [1. 1. 1. 1.]]\n",
      "[[7. 7. 7. 7.]\n",
      " [7. 7. 7. 7.]\n",
      " [7. 7. 7. 7.]]\n"
     ]
    }
   ],
   "source": [
    "# ndarray의 다양한 생성 함수(zeros, ones, empty, full)\n",
    "arr = np.array([1,2,3,4])\n",
    "print(arr)\n",
    "\n",
    "import numpy as np\n",
    "\n",
    "arr = np.empty((3,4))     # 공간만 만든다 (랜덤숫자) - 초기화를 하지 않기 때문에 빠르게 공간만 설정\n",
    "print(arr)\n",
    "\n",
    "arr = np.zeros((3,4))     # 특정 형태의 ndarray를 만들어서 내용을 0으로 채운다.\n",
    "print(arr)                # 기본 데이터 타입은 np.float64 (실수형)\n",
    "\n",
    "arr = np.zeros((3,4), dtype=np.int32)\n",
    "print(arr)\n",
    "\n",
    "arr = np.ones((3,4), dtype=np.float64)\n",
    "print(arr)\n",
    "\n",
    "arr = np.full((3,4), 7, dtype=np.float64)    # 원하는 값으로 채운다\n",
    "print(arr)"
   ]
  },
  {
   "cell_type": "code",
   "execution_count": 12,
   "metadata": {},
   "outputs": [
    {
     "name": "stdout",
     "output_type": "stream",
     "text": [
      "range(0, 10, 2)\n",
      "[0 1 2 3 4 5 6 7 8 9]\n",
      "[[0 1 2 3 4]\n",
      " [5 6 7 8 9]]\n"
     ]
    }
   ],
   "source": [
    "# ndarray를 만드는 또 다른 방법 - arange() \n",
    "\n",
    "# python의 range()\n",
    "arr = range(0,10,2)\n",
    "print(arr)\n",
    "\n",
    "# numpy arange()\n",
    "arr = np.arange(0,10,1)\n",
    "print(arr)\n",
    "print(arr.reshape((2,5)))"
   ]
  },
  {
   "cell_type": "code",
   "execution_count": 22,
   "metadata": {
    "scrolled": true
   },
   "outputs": [
    {
     "name": "stdout",
     "output_type": "stream",
     "text": [
      "[50.99835355 50.34261969 45.03373902 ... 49.7927338  52.08295539\n",
      " 47.48912461]\n",
      "[-1.37647858 -0.40123654  0.8720591  ...  0.81409507 -1.47096599\n",
      " -1.23499827]\n"
     ]
    },
    {
     "data": {
      "image/png": "[encoded data removed]",
      "text/plain": [
       "<Figure size 432x288 with 1 Axes>"
      ]
     },
     "metadata": {
      "needs_background": "light"
     },
     "output_type": "display_data"
    },
    {
     "name": "stdout",
     "output_type": "stream",
     "text": [
      "[99 31 27 ... 27 44 66]\n"
     ]
    },
    {
     "data": {
      "image/png": "[encoded data removed]",
      "text/plain": [
       "<Figure size 432x288 with 1 Axes>"
      ]
     },
     "metadata": {
      "needs_background": "light"
     },
     "output_type": "display_data"
    },
    {
     "name": "stdout",
     "output_type": "stream",
     "text": [
      "[0.61330821 0.24384279 0.99595504 ... 0.91467296 0.69300322 0.75632514]\n"
     ]
    },
    {
     "data": {
      "image/png": "[encoded data removed]",
      "text/plain": [
       "<Figure size 432x288 with 1 Axes>"
      ]
     },
     "metadata": {
      "needs_background": "light"
     },
     "output_type": "display_data"
    }
   ],
   "source": [
    "# ndarray를 만드는 또 다른방법\n",
    "# np.array(), np.zeros(), np.ones(), np.full(), np.empty()\n",
    "# random기반의 생성방법(방법이 5가지 정도 된다) (정규분포, 균등분포)\n",
    "# 간단한 그래프 모듈을 이용해서 데이터의 분포를 살펴보자.\n",
    "# 새로운 모듈인 matplotlib 설치  (그래프에 특화된 모듈)\n",
    "\n",
    "import numpy as np\n",
    "import matplotlib.pyplot as plt\n",
    "\n",
    "# 1. np.random.normal() :정규분포에서 실수형태의 난수를 추출\n",
    "\n",
    "my_mean = 50\n",
    "my_std = 2\n",
    "arr = np.random.normal(my_mean,my_std,(10000,))\n",
    "print(arr)\n",
    "plt.hist(arr,bins=100)      # 히스토그램\n",
    "plt.show\n",
    "\n",
    "# 2. np.random,rand() : 0이상 1미만의 실수를 난수를 추출\n",
    "#                       균등분포로 난수를 추출\n",
    "\n",
    "\n",
    "# 3. np.random.randn() : 표준 정규분포에서 실수형태로 난수를 추출\n",
    "arr = np.random.randn(10000)\n",
    "print(arr)\n",
    "plt.hist(arr,bins=100)\n",
    "plt.show()\n",
    "\n",
    "# 4. np.random.randint(low, high, shape) : (최솟값, 최댓값, shape) 균등분포로 점수 포본을 추출\n",
    "arr = np.random.randint(10,100,(10000,))\n",
    "print(arr)\n",
    "plt.hist(arr,bins=10)\n",
    "plt.show()\n",
    "\n",
    "# 5. np.random.random() : 0이상 1미만의 실수를 난수로 추출\n",
    "#                          균등분포로 난수를 추출\n",
    "#    np.  \n",
    "arr = np.random.random((10000,))\n",
    "print(arr)\n",
    "plt.hist(arr,bins=100)\n",
    "plt.show()"
   ]
  },
  {
   "cell_type": "code",
   "execution_count": null,
   "metadata": {},
   "outputs": [],
   "source": [
    "# Numpy ( Numerical Python )\n",
    "# ndarray를 만드는 방법\n",
    "# np.array(), np.ones(), np.zeros(), np.full(), np.empty()\n",
    "# np.arange()\n",
    "# np.random.normal(), np.random.rand(), np.random.randn()\n",
    "# np.random.random(), np.random.randint()\n"
   ]
  },
  {
   "cell_type": "code",
   "execution_count": 38,
   "metadata": {},
   "outputs": [
    {
     "name": "stdout",
     "output_type": "stream",
     "text": [
      "[24  3 56 72  0 21 19 74 41 10]\n",
      "[0 1 2 3 4 5 6 7 8 9]\n",
      "[3 8 2 1 9 4 0 6 7 5]\n"
     ]
    }
   ],
   "source": [
    "# random에 관련된 함수에 대해서 조금만 더 알아보자\n",
    "import numpy as np\n",
    "\n",
    "# 실행할 때 마다 새로운 난수를 추출한다.\n",
    "# 실행할 때 마다 같은 난수가 추출되도록 설정(난수의 재현)\n",
    "np.random.seed(3)   # seed 값은 정수만 사용되고 음수는 사용할 수 없다.\n",
    "arr = np.random.randint(0, 100,(10,))\n",
    "print(arr)\n",
    "\n",
    "# 간단하게 ndarray를 하나 만들어 보자\n",
    "arr = np.arange(10)\n",
    "print(arr)\n",
    "# 이미 만들어진 ndarray의 데이터 순서를 random하게 바꾸고 싶다!\n",
    "# shuffle 하고 싶다.\n",
    "np.random.shuffle(arr)\n",
    "print(arr)"
   ]
  },
  {
   "cell_type": "code",
   "execution_count": 58,
   "metadata": {
    "scrolled": true
   },
   "outputs": [
    {
     "name": "stdout",
     "output_type": "stream",
     "text": [
      "[ 0  1  2  3  4  5  6  7  8  9 10 11]\n",
      "[[ 0  1  2  3]\n",
      " [ 4  5  6  7]\n",
      " [ 8  9 10 11]]\n",
      "[[  0   1 200   3]\n",
      " [  4   5   6   7]\n",
      " [  8   9  10  11]]\n",
      "200\n",
      "[  0   1 200   3   4   5   6   7   8   9  10  11]\n",
      "[ 0  1  2  3  4  5  6  7  8  9 10 11]\n",
      "[[ 0  1  2  3]\n",
      " [ 4  5  6  7]\n",
      " [ 8  9 10 11]]\n",
      "[[[ 0  1  2]\n",
      "  [ 3  4  5]]\n",
      "\n",
      " [[ 6  7  8]\n",
      "  [ 9 10 11]]]\n",
      "[ 0  1  2  3  4  5  6  7  8  9 10 11]\n",
      "[[ 0  1  2  3]\n",
      " [ 4  5  6  7]\n",
      " [ 8  9 10 11]]\n",
      "[[100   1   2   3]\n",
      " [  4   5   6   7]\n",
      " [  8   9  10  11]]\n",
      "[ 0  1  2  3  4  5  6  7  8  9 10 11]\n"
     ]
    }
   ],
   "source": [
    "# ndarray를 생성한 후\n",
    "# 만들어진 ndarray의 형태(shape)를 제어할 수 있다.\n",
    "\n",
    "# reshape () => ndarray의 형태를 조절\n",
    "import numpy as np\n",
    "\n",
    "arr = np.arange(12)       # 12개의 요소를 가지는 1차원의 ndarray\n",
    "print(arr)\n",
    "\n",
    "#reshape()함수는 새로운 ndarray를 만들지 않는다.\n",
    "# view가 생성된다. \n",
    "arr1 = arr.reshape(3,4)   # 3행 4열의 2차원의 ndarray로 바꿀 수 있다.\n",
    "print(arr1)\n",
    "\n",
    "arr1[0,2]=200\n",
    "print(arr1)\n",
    "print(arr1[0,2])\n",
    "print(arr)\n",
    "\n",
    "#####\n",
    "arr = np.arange(12)  # 12개의 요소를 가지는 1차원의 ndarray\n",
    "print(arr)\n",
    "\n",
    "arr1 = arr.reshape(3,-1)  # -1은 특별한 의미를 갖는다. dont care-상관하지 않겠다 \n",
    "                          # 일단 뒤를 생각하지 않고 3행으로 만들고 남는 것으로 열을 구성하겠다.\n",
    "print(arr1)\n",
    "\n",
    "arr1 = arr.reshape(2,-1,3)\n",
    "print(arr1)\n",
    "\n",
    "# reshape()은 새로운 ndarray를 만드는 게 아니라.. view를 만드는 작업\n",
    "\n",
    "arr = np.arange(12)\n",
    "print(arr)\n",
    "\n",
    "arr1 = arr.reshape(3,4).copy()   # 내용을 복사해서 새로운 ndarray를 생성\n",
    "print(arr1)\n",
    "\n",
    "arr1[0,0] = 100\n",
    "print(arr1)\n",
    "print(arr)      # 복사본을 만들어서 변경했기 때문에 원본은 바뀌지 않는다.\n"
   ]
  },
  {
   "cell_type": "code",
   "execution_count": 71,
   "metadata": {},
   "outputs": [
    {
     "name": "stdout",
     "output_type": "stream",
     "text": [
      "[[1 2 3]\n",
      " [4 5 6]]\n",
      "[1 2 3 4 5 6]\n",
      "[[1 2 3]\n",
      " [4 5 6]]\n",
      "[[1 2 3 4 5 6]]\n",
      "[[1 2 3]\n",
      " [4 5 6]]\n",
      "[[1 2 3 4 5 6]]\n",
      "[[1 2 3]\n",
      " [4 5 6]]\n",
      "[[1 2 3 4]\n",
      " [5 6 0 0]\n",
      " [0 0 0 0]]\n",
      "[[1 2]\n",
      " [3 4]]\n"
     ]
    }
   ],
   "source": [
    "# ravel()에 대해서 알아보자\n",
    "# ndarray가 포함하고 있는 모든 요소를 포함하는 1차원의 ndarray로 변경\n",
    "# ravel()로 변경된 ndarray는 View를 리턴한다.\n",
    "arr = np.array(([1,2,3],[4,5,6]))\n",
    "print(arr)\n",
    "\n",
    "arr1 = arr.ravel()   # View\n",
    "print(arr1)\n",
    "\n",
    "# resize를 이용해서 역시 ndarray의 형태를 변경할 수 있다.\n",
    "\n",
    "arr = np.array(([1,2,3],[4,5,6]))\n",
    "print(arr)\n",
    "\n",
    "arr.resize(1,6)     # 결과를 리턴하지 않고 원본을 바꾼다.\n",
    "print(arr)          # [[1 2 3 4 5 6]]  \n",
    "\n",
    "##\n",
    "\n",
    "arr = np.array(([1,2,3],[4,5,6]))\n",
    "print(arr)\n",
    "\n",
    "arr1 = np.resize(arr,(1,6))  # 원본은 불변, 복사본이 만들어진다(View가 아님)\n",
    "print(arr1)\n",
    "# np.resize와 reshape.copy는 결론적으로 동일\n",
    "\n",
    "###\n",
    "\n",
    "arr = np.array(([1,2,3],[4,5,6]))\n",
    "print(arr)\n",
    "\n",
    "arr.resize(3,4)  # ??? 원본이 2행3열인데 3행 4열로 변경\n",
    "                 # reshape은 안됐다\n",
    "                 # 하지만 resize는 가능. 크기가 달라도 shape을 조절할 수 있다.\n",
    "print(arr)       # 모자란 데이터는 0으로 채운다\n",
    "    \n",
    "arr.resize(2,2)  # 남는 데이터는 버림\n",
    "print(arr)\n",
    "##################################################\n",
    "\n",
    "# 여기까지가 numpy의 기본적인 생성, shape의 변경에 대한 내용\n",
    "# 그 다음은 이렇게 만든 numpy의 사용법에 대한 내용이 나온다.\n",
    "# indexing, slicing, boolean indexing, fancy indexing\n",
    "# 월요일날 numpy에 대한 설명을 종료!\n",
    "\n",
    "# 수행평가 1 : 기본적인 python 프로그래밍 10문제\n",
    "# 수행평가 2 : class를 이용한 mpg데이터를 이용한 8문제\n",
    "#              파일에서 읽어들인 데이터를 class를 기반한 객체로 만들어서\n",
    "#              리스트나 dict같은 자료구조를 이용해서 문제를 해결하라는 의미\n",
    "#              class, 객체를 이용하지 않으면 데이터 처리가 너무 힘들다.\n",
    "# 수행평가 3 : pandas를 이용한 문제(예정)\n",
    "# 문제설명은 블로그에 명시.\n",
    "# 필답평가 및 수행평가 제출일(예정) : 1월 29일(변동될 수 있음)"
   ]
  },
  {
   "cell_type": "code",
   "execution_count": null,
   "metadata": {},
   "outputs": [],
   "source": []
  }
 ],
 "metadata": {
  "kernelspec": {
   "display_name": "Python [conda env:data_env] *",
   "language": "python",
   "name": "conda-env-data_env-py"
  },
  "language_info": {
   "codemirror_mode": {
    "name": "ipython",
    "version": 3
   },
   "file_extension": ".py",
   "mimetype": "text/x-python",
   "name": "python",
   "nbconvert_exporter": "python",
   "pygments_lexer": "ipython3",
   "version": "3.7.9"
  }
 },
 "nbformat": 4,
 "nbformat_minor": 4
}
