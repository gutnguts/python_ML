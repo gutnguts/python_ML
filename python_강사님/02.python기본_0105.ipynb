{
 "cells": [
  {
   "cell_type": "code",
   "execution_count": null,
   "metadata": {},
   "outputs": [],
   "source": [
    "# 0104 내용\n",
    "# Python 데이터 타입( built-in type )\n",
    "# 1. Numeric\n",
    "#    - int, float, complex\n",
    "# 2. sequence \n",
    "#    - list, tuple, range\n",
    "# 3. text sequence\n",
    "#    - str\n",
    "# 4. Mapping\n",
    "#    - dict   딕셔너리\n",
    "# 5. Set\n",
    "#    - set    집합자료구조.\n",
    "# 6. Bool \n",
    "#    - bool"
   ]
  },
  {
   "cell_type": "code",
   "execution_count": 7,
   "metadata": {},
   "outputs": [
    {
     "name": "stdout",
     "output_type": "stream",
     "text": [
      "range(0, 10)\n",
      "range(1, 11, 2)\n",
      "True\n",
      "False\n",
      "5\n",
      "range(5, 11, 2)\n",
      "7\n"
     ]
    }
   ],
   "source": [
    "# range\n",
    "# range(시작, 끝, 증가치)\n",
    "\n",
    "a = range(10)  # 0부터 9까지 1씩 증가하는  sequence\n",
    "# b = [0, 1, 2, 3, 4, 5, 6, 7, 8, 9]\n",
    "print(a)\n",
    "\n",
    "range1 = range(1,11,2)  # 1, 3 ,5 ,7 ,9\n",
    "print(range1)\n",
    "\n",
    "print(7 in range1) # True\n",
    "print(10 in range1) # False\n",
    "\n",
    "print(range1[2]) # 5\n",
    "print(range1[2:])  # range(5, 11, 2)\n",
    "print(range1[-2])  # 7"
   ]
  },
  {
   "cell_type": "code",
   "execution_count": 26,
   "metadata": {},
   "outputs": [
    {
     "name": "stdout",
     "output_type": "stream",
     "text": [
      "this is a same text\n",
      "pythonpythonpython\n",
      "count : 100\n",
      "<class 'str'>\n",
      "s\n",
      "True\n",
      "8\n",
      "9\n",
      "COCACOLA\n",
      "나는 사과를 5개, 귤은 10개 가지고 있어요!!\n"
     ]
    }
   ],
   "source": [
    "# Text Sequence type(문자열 - string)\n",
    "\n",
    "# python에서 문자열을 생성하는 방법\n",
    "# 다른 언어는 ''와 \"\"를 구분해요!\n",
    "\n",
    "# a = 'Hello'\n",
    "# b = \"Hello\"\n",
    "\n",
    "a = 'this is a'  # sequence (list)\n",
    "b = ' same'      # sequence (list)\n",
    "c = ' text'\n",
    "\n",
    "print(a + b + c)  # 'this is a sample text'\n",
    "print('python' * 3) # pythonpythonpython\n",
    "\n",
    "a = 100          # Numeric(int)\n",
    "b = 'count : '   # Text Sequence(str)\n",
    "\n",
    "print(b + str(a))  # count : 100\n",
    "\n",
    "########################################\n",
    "\n",
    "a = 'This is a sample text'   \n",
    "print(type(a))\n",
    "print(a[3]) # 's'\n",
    "\n",
    "print('Sam' not in a)  # True\n",
    "\n",
    "#######################################\n",
    "\n",
    "# 문자열(str - text sequence type)은 여러가지\n",
    "# 함수들을 가지고 있어요!\n",
    "\n",
    "a = 'cocacola'  \n",
    "\n",
    "# 길이를 알고 싶어요!  => len()\n",
    "print(len(a))   # => 8\n",
    "print(a.count('')) # => ??? 왜 9일까요??\n",
    "\n",
    "print(a.upper())\n",
    "\n",
    "###########################################\n",
    "\n",
    "# 문자열 출력관련 format\n",
    "apple_count = 5\n",
    "orange_count = 10\n",
    "\n",
    "a = '나는 사과를 {}개, 귤은 {}개 가지고 있어요!!'.format(apple_count,orange_count)\n",
    "print(a)"
   ]
  },
  {
   "cell_type": "code",
   "execution_count": 43,
   "metadata": {},
   "outputs": [
    {
     "name": "stdout",
     "output_type": "stream",
     "text": [
      "<class 'dict'>\n",
      "{'name': '홍길동', 'age': 30, 'address': '인천'}\n",
      "{'name': '홍길동', 'age': 30, 'address': '서울'}\n",
      "{'name': '홍길동', 'address': '서울'}\n",
      "{'name': '홍길동', 'age': 20, 300: 500, (1, 2, 3): 1000}\n",
      "dict_keys(['name', 'age', 300, (1, 2, 3)])\n",
      "dict_values(['홍길동', 20, 500, 1000])\n",
      "key : name, value : 홍길동\n",
      "key : age, value : 20\n",
      "key : 300, value : 500\n",
      "key : (1, 2, 3), value : 1000\n",
      "True\n",
      "{}\n"
     ]
    }
   ],
   "source": [
    "# python의 Mapping type\n",
    "# dict  (딕셔너리)\n",
    "# 기호로는 중괄호 {} 를 사용해요!\n",
    "# key와 value의 쌍으로 데이터를 표현\n",
    "# { key : value }\n",
    "a = { 'name' : '홍길동', 'age' : 30, 'address' : '인천' }\n",
    "print(type(a))\n",
    "\n",
    "print(a)\n",
    "# 지금 가지고 있는 dict에 새로운 내용을 추가하고 싶어요!!\n",
    "a['address'] = '서울'   #  key값이 존재하지 않으면 데이터를 추가해요!\n",
    "                        #  프로그래밍의 유연성측면에서는 좋아요!\n",
    "                        #  논리오류에 취약. \n",
    "print(a)\n",
    "del a['age']\n",
    "print(a)\n",
    "########################################\n",
    "\n",
    "a = { 'name' : '홍길동', 'age' : 20, 300 : 500, (1,2,3) : 1000}\n",
    "print(a)\n",
    "print(a.keys())  # key들만 뽑아서 dict_keys라는 데이터를 리턴\n",
    "print(a.values())\n",
    "\n",
    "# 모든 key에 대한 value값을 출력해보아요!!\n",
    "# block을 표현할 때 {}를 사용하지 않아요!! 대신 indent를 사용해요!\n",
    "for key in a.keys():\n",
    "    print('key : {}, value : {}'.format(key, a[key]))      \n",
    "    \n",
    "print('name' in a)    # True\n",
    "a.clear()\n",
    "print(a)"
   ]
  },
  {
   "cell_type": "code",
   "execution_count": 63,
   "metadata": {
    "scrolled": true
   },
   "outputs": [
    {
     "name": "stdout",
     "output_type": "stream",
     "text": [
      "{1, 2, 3}\n",
      "{4, 5}\n",
      "{1, 2, 3, 4, 5, 6, 7, 8}\n",
      "{1, 2, 3}\n",
      "{7}\n",
      "{2, 3, 4, 7, 9}\n",
      "{2, 7, 9}\n"
     ]
    }
   ],
   "source": [
    "# Set type\n",
    "# set => 중복을 배제, 순서가 없는 자료구조.\n",
    "# set은 {} 로 사용해요! 대신 key가 존재하지 않아요.\n",
    "a = { 1, 2, 3, 2, 3, 1, 2, 3 }   # => set\n",
    "print(a)\n",
    "###################################\n",
    "\n",
    "a = set([1,2,3,4,5])  # { 1, 2, 3, 4, 5}\n",
    "b = set([4,5,6,7,8])\n",
    "# 집합연산은 크게 합집합, 교집합, 차집합\n",
    "result = a & b  # 교집합, intersection\n",
    "print(result)  # {4 ,5}\n",
    "result = a | b  # 합집합, union\n",
    "print(result)  # {4 ,5}\n",
    "result = a - b  # 차집합, difference\n",
    "print(result)  # {1,2,3}\n",
    "\n",
    "# set에 데이터를 추가, 삭제해 보아요!\n",
    "a = set()\n",
    "a.add(7)   # 1개를 추가할때는 add\n",
    "print(a)\n",
    "a.update([9,2,3,4]) # 여러개를 추가할때는 update \n",
    "print(a)\n",
    "a.difference_update({3,4})\n",
    "print(a)"
   ]
  },
  {
   "cell_type": "code",
   "execution_count": 65,
   "metadata": {},
   "outputs": [
    {
     "name": "stdout",
     "output_type": "stream",
     "text": [
      "False\n"
     ]
    }
   ],
   "source": [
    "# Bool Type\n",
    "# bool - 논리형 (True, False)\n",
    "# 사용할 수 있는 연산자는 and, or, not\n",
    "print(True and False)  # True\n",
    "\n",
    "# python에서 다음의 경우는 False로 간주\n",
    "# 1. 빈문자열( '' ) => 논리 type으로 표현하면 False\n",
    "# 2. 빈리스트( [] ) => False로 간주\n",
    "# 3. 빈Tuple( () ) =>  False로 간주\n",
    "# 4. 빈 dict( {} ) => False로 간주\n",
    "# 5. 숫자 0은 False로 간주되고 나머지 숫자는 True로 간주\n",
    "# 6. None => False로 간주되요!!!\n"
   ]
  },
  {
   "cell_type": "code",
   "execution_count": 68,
   "metadata": {},
   "outputs": [
    {
     "name": "stdout",
     "output_type": "stream",
     "text": [
      "1\n",
      "2\n",
      "3\n",
      "4\n",
      "5\n",
      "1-2-3-4-5-"
     ]
    }
   ],
   "source": [
    "# for문에 대해서 잠깐 알아보아요!\n",
    "for tmp in [1,2,3,4,5]:\n",
    "    print(tmp)           # print()는 default형태로 사용하면 출력후 줄바꿈을 해요!\n",
    "                         # 만약 내용출력후 줄바꿈대신 다른 처리를 하려면\n",
    "                         # end 속성을 이용하면 되요!!  \n",
    "    \n",
    "for tmp in [1,2,3,4,5]:\n",
    "    print(tmp, end='-')           \n",
    "    "
   ]
  },
  {
   "cell_type": "code",
   "execution_count": 75,
   "metadata": {},
   "outputs": [
    {
     "name": "stdout",
     "output_type": "stream",
     "text": [
      "5의 배수예요!!\n",
      "[4, 8, 12]\n",
      "0\n",
      "1\n",
      "2\n",
      "3\n",
      "4\n",
      "5\n",
      "6\n",
      "7\n",
      "8\n",
      "9\n"
     ]
    }
   ],
   "source": [
    "# Data Type이 정리되면\n",
    "# 제어문!!\n",
    "# if\n",
    "# if ~ elif ~ else 구문을 이용\n",
    "\n",
    "a = 20\n",
    "\n",
    "if a % 3 == 0:\n",
    "    print('3의 배수예요!!')\n",
    "elif a % 5 == 0:\n",
    "    print('5의 배수예요!!')\n",
    "elif a % 7 == 0:\n",
    "    print('7의 배수예요!!')\n",
    "elif a % 11 == 0:\n",
    "    pass\n",
    "else:\n",
    "    print('조건에 해당되는게 없어요!!')\n",
    "\n",
    "############################\n",
    "# 일반적으로 반복문은 for, while을 써요\n",
    "# for는 반복횟수를 알고 있을때, while은 조건에 따라서 반복할때\n",
    "# for tmp in range(10):\n",
    "#     print(tmp, end=' ')\n",
    "    \n",
    "# python list comprehension이라는게 존재해요!\n",
    "# 리스트를 생성할 때 반복문을 조건문을 이용해서 생성\n",
    "\n",
    "a = [1,2,3,4,5,6,7]\n",
    "\n",
    "# [2,4,6,8,10,12,14]\n",
    "list1 = [tmp * 2 for tmp in a if tmp % 2 == 0]\n",
    "print(list1)\n",
    "\n",
    "################################\\\n",
    "\n",
    "idx = 0\n",
    "\n",
    "\n",
    "while idx < 10:\n",
    "    print(idx)\n",
    "    idx += 1"
   ]
  }
 ],
 "metadata": {
  "kernelspec": {
   "display_name": "Python [conda env:data_env] *",
   "language": "python",
   "name": "conda-env-data_env-py"
  },
  "language_info": {
   "codemirror_mode": {
    "name": "ipython",
    "version": 3
   },
   "file_extension": ".py",
   "mimetype": "text/x-python",
   "name": "python",
   "nbconvert_exporter": "python",
   "pygments_lexer": "ipython3",
   "version": "3.7.9"
  }
 },
 "nbformat": 4,
 "nbformat_minor": 4
}
