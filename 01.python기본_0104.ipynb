{
 "cells": [
  {
   "cell_type": "code",
   "execution_count": null,
   "metadata": {},
   "outputs": [],
   "source": [
    "'''\n",
    "Python 개요!\n",
    "=> 1990년 만들어진 프로그래밍 언어\n",
    "\n",
    "특징\n",
    "\n",
    "1. 러닝커브가 얕아요!\n",
    "2. 무료/간결해요.\n",
    "3. 교육용으로 시작하다 보니.. 코드의 가독성이 높아요!\n",
    "4. 다양한 분야에 이용할 수 있어요!\n",
    "   웹프로그래밍,DB 프로그래밍, 데이터 분석, AI쪽 \n",
    "   Mobile App을 만들기에는 적합하지 않아요!\n",
    "   시스템 프로그래밍도 안되요!\n",
    "\n",
    "======================================\n",
    "\n",
    "개발환경 설정\n",
    "\n",
    "일반적인 개발환경(일반 python 프로그램, 웹 프로그램)\n",
    "=> 파이참이라는 IDE를 이용하면 편해요!\n",
    "=> 주피터 노트북이라는 웹 IDE를 이용할 수 있어요!\n",
    "\n",
    "기본적으로 파이썬은 2.x버전과 3.x버전으로 나뉘어요!\n",
    "파이썬의 최신버전은 현재 3.8버전이예요!\n",
    "우리는 3.7버전을 이용할 꺼예요~  => Tensorflow라는 Deep Learning Framework이 있는데 \n",
    "이걸 사용할 꺼예요!\n",
    "\n",
    "일단 먼저 아나콘다라는 패키지를 설치해요!\n",
    "\n",
    "1. 아나콘다(anaconda)를 다운로드해서 설치해요!\n",
    "2. 아나콘다는 무료로 사용가능하고 python과 다수의 유용한 package를 쉽게 사용할 수 있도록\n",
    "   제공해주고 있어요!\n",
    "3. 아나콘다 설치 후, anaconda prompt를 관리자 권한으로 실행해요!\n",
    "4. pip를 최신버전으로 일단 upgrade를 해 줘요!\n",
    "   python -m pip install --upgrade pip\n",
    "5. conda 가상환경을 하나 생성해요!\n",
    "   conda create -n data_env python=3.7 openssl\n",
    "6. 생성된 가상환경으로 전환해요!\n",
    "   conda activate data_env\n",
    "7. nb_conda라는 package를 설치해야 해요!\n",
    "    conda install nb_conda\n",
    "8. jupyter notebook이라는 웹 기반의 개발툴을 이용할꺼예요!\n",
    "   코드작업을 하기 위해 새 파일을 생성하면 이 파일이 이상한데 들어가요!\n",
    "   우리가 만든 파일이 우리가 원하는 폴더안에 저장되도록 jupyter notebook의 \n",
    "   홈디렉토리를 설정해야해요!\n",
    "   이 홈디렉토리를 설정할 환경설정파일을 생성해야 해요!\n",
    "   jupyter notebook --generate-config\n",
    "   파일이 생성됬으면 홈디렉토리를 설정해줘요!!\n",
    "9. jupyter notebook을 실행하면 되요!!\n",
    "   jupyter notebook\n",
    "======================\n",
    "'''"
   ]
  },
  {
   "cell_type": "code",
   "execution_count": 3,
   "metadata": {},
   "outputs": [],
   "source": [
    "# 이 상자를 cell이라고 부른다.\n",
    "# cell안에 이렇게 코드를 넣을수가 있다.\n",
    "# 아래쪽에 새로운 cell을 만들고 싶으면 b 키를 누른다.\n",
    "# 위쪽에 새로운 cell을 만들고 싶으면 a 키를 누른다.\n",
    "# cell을 삭제하려면.. cell 선택 후 d d 키를 누른다.\n",
    "# cell안의 코드를 실행하려면 ctrl + enter 키를 사용한다."
   ]
  },
  {
   "cell_type": "code",
   "execution_count": 2,
   "metadata": {},
   "outputs": [],
   "source": [
    "# 가상환경 리스트 확인\n",
    "# conda info --envs\n",
    "# 가상환경 삭제(사용된 폴더는 자동으로 지워지지 않는다. 수동으로 삭제.)\n",
    "# conda remove --name data_env --all"
   ]
  },
  {
   "cell_type": "code",
   "execution_count": null,
   "metadata": {},
   "outputs": [],
   "source": [
    "# 파이썬의 특징\n",
    "# 1. 상대적으로 쉬운언어\n",
    "# 2. 강력한 데이터분석 library, AI관련 library가 많다.\n",
    "# 3. open source(무료)\n",
    "# 4. 데이터분석을 위한 범용적인 언어\n",
    "#    R은 통계를 위한 프로그래밍 언어.\n",
    "# 5. 가장 인기있는 언어중 하나.\n",
    "# 6. 하위 호환성은 문제! (2.x버전과 3.x버전)\n"
   ]
  },
  {
   "cell_type": "code",
   "execution_count": 6,
   "metadata": {},
   "outputs": [
    {
     "name": "stdout",
     "output_type": "stream",
     "text": [
      "['False', 'None', 'True', 'and', 'as', 'assert', 'async', 'await', 'break', 'class', 'continue', 'def', 'del', 'elif', 'else', 'except', 'finally', 'for', 'from', 'global', 'if', 'import', 'in', 'is', 'lambda', 'nonlocal', 'not', 'or', 'pass', 'raise', 'return', 'try', 'while', 'with', 'yield']\n",
      "생성된 변수의 값은 :  100\n"
     ]
    }
   ],
   "source": [
    "# Python 기본\n",
    "# 주석\n",
    "# python의 주석\n",
    "# 1줄 주석은 : #\n",
    "# 여러줄 주석은 : '''안에 있는 문장은 모두 주석'''\n",
    "# - 키워드를 살펴보자!\n",
    "import keyword\n",
    "print(keyword.kwlist)\n",
    "\n",
    "# - 변수의 생성과 삭제\n",
    "hahaha = 100\n",
    "print('생성된 변수의 값은 : ', hahaha)"
   ]
  },
  {
   "cell_type": "code",
   "execution_count": 9,
   "metadata": {},
   "outputs": [
    {
     "ename": "NameError",
     "evalue": "name 'hahaha' is not defined",
     "output_type": "error",
     "traceback": [
      "\u001b[1;31m---------------------------------------------------------------------------\u001b[0m",
      "\u001b[1;31mNameError\u001b[0m                                 Traceback (most recent call last)",
      "\u001b[1;32m<ipython-input-9-51813af83c53>\u001b[0m in \u001b[0;36m<module>\u001b[1;34m\u001b[0m\n\u001b[1;32m----> 1\u001b[1;33m \u001b[1;32mdel\u001b[0m \u001b[0mhahaha\u001b[0m\u001b[1;33m\u001b[0m\u001b[1;33m\u001b[0m\u001b[0m\n\u001b[0m\u001b[0;32m      2\u001b[0m \u001b[0mprint\u001b[0m\u001b[1;33m(\u001b[0m\u001b[0mhahaha\u001b[0m\u001b[1;33m)\u001b[0m \u001b[1;31m# 에러가 발생한다.\u001b[0m\u001b[1;33m\u001b[0m\u001b[1;33m\u001b[0m\u001b[0m\n",
      "\u001b[1;31mNameError\u001b[0m: name 'hahaha' is not defined"
     ]
    }
   ],
   "source": [
    "del hahaha\n",
    "print(hahaha) # 에러가 발생한다."
   ]
  },
  {
   "cell_type": "code",
   "execution_count": 10,
   "metadata": {},
   "outputs": [],
   "source": [
    "# Python의 Data Type(Built-in Data type)\n",
    "# 여러가지 data type이 존재하는데 하나하나 알아보자\n",
    "# 1. numeric\n",
    "#    - int, float, complex\n",
    "# 2. sequence\n",
    "#    - list, tuple\n",
    "# 3. text sequence(문자열) - string\n",
    "# 4. mapping\n",
    "# 5. set\n",
    "# 6. bool"
   ]
  },
  {
   "cell_type": "code",
   "execution_count": 20,
   "metadata": {},
   "outputs": [
    {
     "name": "stdout",
     "output_type": "stream",
     "text": [
      "123\n",
      "<class 'int'>\n",
      "6.140000000000001\n",
      "0.75\n",
      "81\n",
      "1\n",
      "33\n"
     ]
    }
   ],
   "source": [
    "# 1. numeric(숫자형)\n",
    "# 정수(int), 실수(float), 복소수(complex)\n",
    "a = 123        # 정수\n",
    "b = 3.141592   # 실수\n",
    "c = 1 + 2j     # 복소수\n",
    "d = 0o34       # 8진수\n",
    "e = 0xAB       #16진수\n",
    "\n",
    "print(a)     # 변수 a의 값을 출력\n",
    "print(type(a))      # 변수 a의 데이터 타입을 출력 => type()\n",
    "\n",
    "# 연산할때 한가지 주의해야 할 점이 있다.\n",
    "# 1. 연산은 무조건 같은 데이터 타입끼리 일어난다.\n",
    "a = 3 + 3.14\n",
    "print(a)\n",
    "\n",
    "a = 3 / 4    # 0.75 => 정수 / 정수 => 정수\n",
    "print(a)\n",
    "\n",
    "# 지수표현\n",
    "a = 3 ** 4\n",
    "print(a)\n",
    "\n",
    "# 나머지 연산\n",
    "a = 100 % 3\n",
    "print(a)\n",
    "\n",
    "# 나눗셈의 몫\n",
    "a = 100 // 3\n",
    "print(a)"
   ]
  },
  {
   "cell_type": "code",
   "execution_count": 41,
   "metadata": {
    "scrolled": true
   },
   "outputs": [
    {
     "name": "stdout",
     "output_type": "stream",
     "text": [
      "[1, 2, ['show', 'me', 'the', 'money'], 3.14, True]\n",
      "1\n",
      "True\n",
      "me\n",
      "[2, ['show', 'me', 'the', 'money'], 3.14]\n",
      "[1]\n",
      "[3.14, True]\n",
      "[1, 2]\n",
      "[1, 2, ['show', 'me', 'the', 'money'], 3.14]\n",
      "[1, 2, 3, 4, 5, 6]\n",
      "[1, 2, 3, 1, 2, 3, 1, 2, 3]\n",
      "[7, 8, 9, 2, 3]\n",
      "[[7, 8, 9], 8, 9, 2, 3]\n",
      "[1, 2, 3, 4]\n",
      "[1, 2, 3, 4, [4]]\n",
      "[2, 3, 4, [4]]\n",
      "None\n",
      "[1, 2, 3, 7, 8]\n",
      "[8, 7, 3, 2, 1]\n"
     ]
    }
   ],
   "source": [
    "# 2. sequence 데이터 타입\n",
    "# sequence data type - 2-1. list\n",
    "# 임의의 데이터를 순서대로 저장하는 집합 자료형\n",
    "# Java의 ArrayList와 비슷하다.\n",
    "# 대괄호([])를 이용하여 표현한다. 다른방법도 있다.\n",
    "a = list()   # 빈 리스트를 생성한다.\n",
    "a = []       # 빈 리스트를 생성한다.\n",
    "a = [1, 2, 3, 4.5, True]\n",
    "a = [1, 2, [4,5], 6]\n",
    "\n",
    "a = [1, 2, ['show', 'me', 'the', 'money'], 3.14, True]\n",
    "\n",
    "print(a)\n",
    "print(a[0])    # 1  indexing\n",
    "print(a[-1])   # True    다른언어에서는 오류, 파이썬에서는 마이너스 인덱스를 사용할 수 있다.\n",
    "print(a[2][1])\n",
    "\n",
    "print(a[1:4])  # slicing => 부분집합을 얻는 것이기 때문에 원본의 데이터타입을 그대로 계승.\n",
    "               # 앞의 숫자는 inclusive, 뒤의 숫자는 exclusive\n",
    "print(a[0:1])  # [1]\n",
    "print(a[3:])   # [3.14, True]\n",
    "print(a[:2])   # [1, 2]\n",
    "print(a[:-1])  # [1, 2, ['show', 'me', 'the', 'money'], 3.14]\n",
    "\n",
    "##############################\n",
    "\n",
    "a = [1,2,3]\n",
    "b = [4,5,6]\n",
    "print(a + b)   # 연결(concatenation)\n",
    "               # [1,2,3,4,5,6]\n",
    "print(a * 3)   # a + a + a\n",
    "               # [1,2,3,1,2,3,1,2,3]\n",
    "\n",
    "###############################\n",
    "\n",
    "a = [1,2,3]\n",
    "a[0] = 5  # [5,2,3]\n",
    "a[0:1] = [7,8,9]  # [7, 8, 9, 2, 3]\n",
    "print(a)\n",
    "a[0] = [7,8,9]    # [[7, 8, 9], 8, 9, 2, 3]\n",
    "print(a)\n",
    "\n",
    "###############################\n",
    "\n",
    "# 리스트에 요소를 추가하거나 삭제하기\n",
    "\n",
    "a = [1,2,3]\n",
    "a.append(4)    # [1,2,3,4]\n",
    "print(a)\n",
    "a.append([4])    # [1,2,3,4,[4]]\n",
    "print(a)\n",
    "\n",
    "del a[0]\n",
    "print(a)\n",
    "\n",
    "####################################\n",
    "\n",
    "# python의 리스트(list)는 집합자료구조이면서 다양한 기능을 가지고 있다.\n",
    "# 많은 함수를 이용해서 이런 기능들을 우리에게 제공하고 있다.\n",
    "a = [7,3,1,8,2]  # 리스트!\n",
    "# 정렬하고 싶다!\n",
    "# 파이썬은 정렬을 아주 쉽게 처리할 수 있다.\n",
    "result = a.sort()     # sort는 오름차순 정리\n",
    "print(result)         # None\n",
    "# sort()함수가 리턴을 주지 않는다. 원본을 제어.\n",
    "a.sort()\n",
    "print(a)\n",
    "\n",
    "a.reverse()           # 리스트 자체를 역으로 바꾼다. sort와 같이 쓰면 내림차순 정리\n",
    "print(a)"
   ]
  },
  {
   "cell_type": "code",
   "execution_count": 49,
   "metadata": {},
   "outputs": [
    {
     "name": "stdout",
     "output_type": "stream",
     "text": [
      "<class 'list'>\n",
      "<class 'tuple'>\n",
      "<class 'int'>\n",
      "<class 'tuple'>\n",
      "<class 'tuple'>\n",
      "(1, 2, 3, 4, 5, 6)\n",
      "(1, 2, 3)\n"
     ]
    }
   ],
   "source": [
    "# 2. sequence 데이터 타입\n",
    "# sequence data type - 2-2. tuple\n",
    "# 리스트와 상당히 유사하다. 가장 큰 차이점은 read only\n",
    "# tuple은 어떻게 표현되나? ==> () 소괄호를 이용해서 표현\n",
    "a = list()\n",
    "a = []\n",
    "print(type(a))\n",
    "\n",
    "a = tuple()\n",
    "a = ()\n",
    "a = (1,2,3)    # [1,2,3]과 비슷한 의미\n",
    "print(type(a))\n",
    "\n",
    "a = [1]      # 요소를 1개만 가지고 있는 list\n",
    "b = (1)      # ()의 의미가 다르다. 요소가 1개짜리 튜플이 아님. => 3 * ( 4 + 5)\n",
    "print(type(b))\n",
    "b = (1,)     # 요소가 1개짜리 tuple은 ,를 이용해서 표현.\n",
    "\n",
    "a = (1,2,3)  # tuple\n",
    "print(type(a)) # <class 'tuple'>\n",
    "# tuple은 특이하게 소괄호를 생략할 수 있다.\n",
    "b = 4, 5, 6\n",
    "print(type(b))\n",
    "\n",
    "#b[0] = 100   # Error . tuple은 내용을 변경할 수 없다.\n",
    "\n",
    "# indexing과 slicing방식은 list와 동일.\n",
    "\n",
    "a = (1,2,3)\n",
    "b = (4,5,6)\n",
    "print(a+b)    # (1,2,3,4,5,6)\n",
    "\n",
    "last = [1,2,3] # list\n",
    "# list를 tuple로 변환시키고 싶다.\n",
    "result = tuple(last)\n",
    "print(result)  # tuple을 list로 변환하는 것도 가능"
   ]
  }
 ],
 "metadata": {
  "kernelspec": {
   "display_name": "Python [conda env:data_env] *",
   "language": "python",
   "name": "conda-env-data_env-py"
  },
  "language_info": {
   "codemirror_mode": {
    "name": "ipython",
    "version": 3
   },
   "file_extension": ".py",
   "mimetype": "text/x-python",
   "name": "python",
   "nbconvert_exporter": "python",
   "pygments_lexer": "ipython3",
   "version": "3.7.9"
  }
 },
 "nbformat": 4,
 "nbformat_minor": 4
}
