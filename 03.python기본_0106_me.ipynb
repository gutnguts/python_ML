{
 "cells": [
  {
   "cell_type": "code",
   "execution_count": null,
   "metadata": {},
   "outputs": [],
   "source": [
    "# python의 함수\n",
    "# python의 객체지향\n",
    "\n",
    "# 함수는 특정 기능을 수행하는 코드 묶음.\n",
    "# 함수를 만들때 함수명은 가독성을 높이기 위해서 C언어 함수 스타일로 \n",
    "# 이름을 만든다. => 함수명은 소문자로 작성 + 밑줄을 이용해서 함수명을 작성\n",
    "# student_name\n",
    "\n",
    "# python에서의 함수는 내장함수(print(), len())\n",
    "#                     사용자 정의 함수"
   ]
  },
  {
   "cell_type": "code",
   "execution_count": 5,
   "metadata": {},
   "outputs": [
    {
     "name": "stdout",
     "output_type": "stream",
     "text": [
      "60\n"
     ]
    }
   ],
   "source": [
    "# 사용자 정의 함수(user define function)\n",
    "\n",
    "# 함수를 정의할 때 def 키워드를 이용한다.\n",
    "\n",
    "def my_sum(a, b, c):          # 만약 sum이란 이름으로 함수를 정의한다면\n",
    "    result = a + b + c        # 기존의 sum 함수의 의미가 변경된다.\n",
    "    return result\n",
    "\n",
    "\n",
    "sum_result = my_sum(10,20,30)\n",
    "print(sum_result)"
   ]
  },
  {
   "cell_type": "code",
   "execution_count": 2,
   "metadata": {},
   "outputs": [],
   "source": [
    "# 상단의 Kernel - restart : 파이썬을 초기 상태로 되돌린다. \n",
    "# print(sum_result)       Error : 초기 상태로 되돌려서 위의 설정이 사라짐"
   ]
  },
  {
   "cell_type": "code",
   "execution_count": 4,
   "metadata": {},
   "outputs": [
    {
     "name": "stdout",
     "output_type": "stream",
     "text": [
      "(1, 2, 3, 4)\n",
      "결과값은 : 10\n"
     ]
    }
   ],
   "source": [
    "# 함수를 정의해서 사용할 때 인자가 고정되어 있지 않은 경우에는\n",
    "# 어떻게 해야 하나요?\n",
    "\n",
    "def my_sum(*tmp):   # 가변 데이터, 인자의 개수의 상관없이 모든 데이터를 받겠다.\n",
    "    print(tmp)\n",
    "    result = 0           # tuple로 인자를 받는다.\n",
    "    for t in tmp:\n",
    "        result += t\n",
    "    return result\n",
    "\n",
    "print('결과값은 : {}'.format(my_sum(1,2,3,4)))"
   ]
  },
  {
   "cell_type": "code",
   "execution_count": 8,
   "metadata": {},
   "outputs": [
    {
     "name": "stdout",
     "output_type": "stream",
     "text": [
      "<class 'tuple'>\n",
      "(30, 200)\n",
      "30\n",
      "200\n"
     ]
    }
   ],
   "source": [
    "# 여러개의 값을 리턴하는 함수\n",
    "\n",
    "def multi_return(a,b):\n",
    "    result1 = a + b\n",
    "    result2 = a * b\n",
    "    return result1, result2  # tuple은 ()를 생략할 수 있다.\n",
    "\n",
    "\n",
    "data1 = multi_return(10,20)\n",
    "print(type(data1))\n",
    "print(data1)\n",
    "\n",
    "data1, data2 = multi_return(10,20)\n",
    "print(data1)\n",
    "print(data2)"
   ]
  },
  {
   "cell_type": "code",
   "execution_count": 11,
   "metadata": {},
   "outputs": [
    {
     "name": "stdout",
     "output_type": "stream",
     "text": [
      "200\n",
      "30\n",
      "30\n",
      "30\n"
     ]
    }
   ],
   "source": [
    "# default parameter를 이용할 수 있다.\n",
    "# default parameter는 마지막 인자에만 쓸 수 있다.\n",
    "# 값을 줬을 때와 주지 않았을 때 달라지도록\n",
    "def default_param(a,b,c=False):     \n",
    "    if c:\n",
    "        result = a+b\n",
    "    else:\n",
    "        result = a*b\n",
    "    return result\n",
    "\n",
    "\n",
    "print(default_param(10,20))\n",
    "print(default_param(10,20,30))\n"
   ]
  },
  {
   "cell_type": "code",
   "execution_count": 13,
   "metadata": {},
   "outputs": [
    {
     "name": "stdout",
     "output_type": "stream",
     "text": [
      "data_x : 10\n",
      "data_list : [10, 20, 100]\n"
     ]
    }
   ],
   "source": [
    "# call-by-value, call-by-reference\n",
    "# 넘겨준 인자값이 변경되지 않는경우 : call-by-value => immutable (숫자, 문자열, tuple)\n",
    "# 넘겨준 인자값이 변경되는 경우 : call-by-reference => mutable   (list, dict)\n",
    "\n",
    "def my_func(tmp_value, tmp_list):\n",
    "    tmp_value = tmp_value + 100\n",
    "    tmp_list.append(100)\n",
    "\n",
    "data_x = 10\n",
    "data_list = [10,20]\n",
    "\n",
    "my_func(data_x,data_list)  # list의 원본이 변하지 않길 원한다면 tuple(data_list)로 사용하는 방법이 있다.\n",
    "\n",
    "print('data_x : {}'.format(data_x))         # 10  원본이 변하지 않기 때문 - 값의 복사본이 넘어감. => immutable \n",
    "print('data_list : {}'.format(data_list))   #  [10,20,100] 원본이 변함 - 리스트 자체가 넘어간다. => mutable\n",
    "\n"
   ]
  },
  {
   "cell_type": "code",
   "execution_count": 16,
   "metadata": {
    "scrolled": true
   },
   "outputs": [
    {
     "name": "stdout",
     "output_type": "stream",
     "text": [
      "120\n",
      "140\n"
     ]
    }
   ],
   "source": [
    "# local variable과 global variable\n",
    "\n",
    "tmp = 100                  # global scope\n",
    "\n",
    "def my_func(x):            \n",
    "    global tmp            # local scope. 같은 이름이지만 서로 다른 변수임 따라서 사용하기 위해서는 global을 붙여줘야 한다.\n",
    "    tmp = tmp + x\n",
    "    return tmp\n",
    "\n",
    "print(my_func(20))\n",
    "\n",
    "# 이렇게 global keyword로 global variable을 함수내에서 사용할 수 있다.\n",
    "# 과연 이방법이 좋은가? => 상당히 좋지 않다. - 가능한 한 피해라 \n",
    "# 그럼 어떻게 해야하는가? => 파라미터를 넘긴다.\n",
    "\n",
    "def my_func(my_tmp,x):\n",
    "    # global tmp\n",
    "    my_tmp = my_tmp + x\n",
    "    return my_tmp\n",
    "\n",
    "print(my_func(tmp,20))"
   ]
  },
  {
   "cell_type": "code",
   "execution_count": 19,
   "metadata": {},
   "outputs": [
    {
     "name": "stdout",
     "output_type": "stream",
     "text": [
      "True\n",
      "False\n",
      "True\n",
      "False\n"
     ]
    }
   ],
   "source": [
    "# python의 내장함수에 대해서 알아보자.\n",
    "# 엄청나게 많다.\n",
    "# 많이 알면 알수록 당연히 프로그래밍이 쉬워진다.\n",
    "# 기본적으로 알아야 하는 몇가지만 알아보자.\n",
    "\n",
    "# 1. all(x) 함수\n",
    "#    반복가능한 자료형 x에 대해서 모든 값이 True면 True.\n",
    "#    만약 하나라도 False면 False처리를 해주는 함수\n",
    "\n",
    "a = [3.14, 100, 'Hello', True]\n",
    "b = [3.13, 0, 'Hi', True]\n",
    "print(all(a))\n",
    "print(all(b))\n",
    "\n",
    "# 2. any(x) 함수\n",
    "#    반복가능한 자료형 x에 대해서 하나라도 True면 True.\n",
    "#    모든데이터가 False면 False처리를 해주는 함수\n",
    "\n",
    "a = [3.14, 0, 'Hello', True]\n",
    "b = [0, 0, '', None]\n",
    "print(any(a))\n",
    "print(any(b))\n",
    "\n",
    "# 3. len(x) 함수\n",
    "#    x의 길이를 알려주는 함수\n",
    "\n",
    "# 4. int(), float(), list(), tuple(), dict(), str(), set()\n",
    "# 자료형에 대한 함수\n"
   ]
  },
  {
   "cell_type": "code",
   "execution_count": null,
   "metadata": {},
   "outputs": [],
   "source": [
    "# python에는 lambda 함수가 있어요!!\n",
    "# lambda는 한 줄로 함수를 정의하는 방법.\n",
    "# lambda는 함수의 이름이 없기 때문에 anonymous function이라고 하기도 한다.\n"
   ]
  },
  {
   "cell_type": "code",
   "execution_count": 21,
   "metadata": {},
   "outputs": [],
   "source": [
    "# 객체지향에 대해서 알아보자\n",
    "# python 3.x로 변경되면서 객체지향언어로 탈바꿈.\n",
    "# 객체지향에 대한 기본적인 이해\n",
    "# 이런 객체지향 개념을 코드상으로 어떻게 표현하나.. 라는 부분을 잘 이해해야함.\n",
    "\n",
    "# 프로그래밍의 패러다임\n",
    "# 과거엔 상당히 프로그래밍하기 힘들었다.\n",
    "# 정말 옛날에는 이진수로 프로그래밍 \n",
    "# 어셈블리어~ ADD, REGISTER\n",
    "# C를 위시한 고급언어들이 등장 high level language\n",
    "\n",
    "# 절차적 프로그래밍을 했다. (구조적 프로그래밍)\n",
    "# 절차적 프로그래밍의 가장 대표적인 언어 => C\n",
    "\n",
    "# 프로그램을 기능으로 세분화 시킨다.\n",
    "# 파악된 각각의 기능을 모듈로 만든다 => 함수로 각 모듈을 구현\n",
    "\n",
    "# 예시) 은행프로그램을 구현\n",
    "# 은행이 가지고 있는 기능을 파악\n",
    "# 예금업무, 외환업무, 대출업무, 보험업무, ...\n",
    "# 예금업무를 대상으로 다시 기능을 세분화\n",
    "# 예금업무 => 자행입금, 타행입금, 무통장입금, 출금기능\n",
    "# 결국은 더 이상 세분화 할 수 없는 기능들이 도출 -> 단위기능\n",
    "# 단위기능을 함수로 구현.\n",
    "\n",
    "# 장점 : 프로그램을 쉽고 빠르게 구현.\n",
    "#        프로그램 설계를 빠르게 할 수 있고, \n",
    "#        누가 설계를 하던지 거의 동일한 설계가 나온다.\n",
    "# 단점 : 프로그램의 규모가 커지게 되면 유지보수가 힘들다\n",
    "#        개발비용보다 유지보수 비용이 더 커지는 현상\n",
    "#        기존 코드를 재사용하는데 한계가 있다 => 함수단위로 가져다 쓰거나\n",
    "#                                                코드를 복사, 붙여넣어서 재사용\n",
    "#        코드의 재사용성의 한계\n",
    "\n",
    "# 인터넷의 보급\n",
    "# 유지보수의 요구사항이 급증.\n",
    "# 새로운 프로그래밍 방식의 필요성 증가.\n",
    "# 객체지향 프로그래밍 (1990년대)\n",
    "# 모든 구현자체가 객체지향으로 전환 => C++, Java\n",
    "\n",
    "# 객체지향 프로그래밍 방식\n",
    "# 프로그램을 기능으로 세분화 하지 않는다.\n",
    "# 해결해야하는 문제를 그대로 프로그램으로 묘사\n",
    "# 프로그램을 구성하는 주체를 파악.\n",
    "# 은행을 구성하고 있는 주체들 => 은행, 계좌, 사람, 지점\n",
    "# 이 주체들이 어떻게 서로 상호작용하는지를 프로그램적으로 묘사.\n",
    "\n",
    "# 단점 : 프로그램의 설계와 구현이 상대적으로 어렵다.\n",
    "# 장점 : 프로그램의 유지보수성과 재사용성에 이점을 가질 수 있다.\n",
    "\n",
    "# 학계나 상대적으로 간단한, 특별히 유지보수가 필요없는\n",
    "# 프로그램들은 절차적 프로그램 방식으로 구현.\n",
    "# 서비스류 프로그램들은 유지보수성 때문에 객체지향적으로 구현하는게 좋다.\n",
    "\n",
    "# 객체지향 프로그램은 현실세계의 개체를 프로그램적으로 모델링하는게 중요.\n",
    "# 예시) 자동차를 프로그램적으로 표현해 보자\n",
    "# 자동차가 가지는 속성들과 행위들이 무엇이 있는지를 파악\n",
    "# 자동차가 가지는 속성 : 도어수, CC, 현재 속도, 차 가격, 차 색상...\n",
    "#                        CC, 현재속도 => 변수 => 속성, 필드, property, attribute\n",
    "# 자동차가 가지는 행위 : 전진한다, 후진한다, 깜빡이를 킨다, 와이퍼를 움직인다, 기어를 변경한다.  \n",
    "#                        => 함수 => method\n",
    "# 객체를 모델링하기 위해서 사용하는 프로그램 단위 => class\n",
    "\n",
    "# class안에는 변수들과 함수들이 여러개 들어가 있다.\n",
    "# class를 데이터 타입의 관점에서 바라볼 수 있다.\n",
    "\n",
    "# class : (현실세계의)객체를 (프로그램적으로)모델링하는 (프로그래밍)수단 => 객체모델링의 수단\n",
    "# class : 추상 데이터 타입(새로운 데이터 타입을 만들어내는 수단)\n",
    "##################################################################\n",
    "\n",
    "# 이 class는 현살세계의 개체를 프로그램적으로 묘사하기 위해서 사용하는\n",
    "# 설명서 같은 개념, 프로그램적으로 표현하는 개념\n",
    "# class를 기반으로 프로그램에서 사용할 수 있는 메모리 영역을 할당할 수 있다.\n",
    "# 그 데이터를 차지하는 공간을 instance라고 한다. ==> 객체"
   ]
  },
  {
   "cell_type": "code",
   "execution_count": 26,
   "metadata": {},
   "outputs": [
    {
     "name": "stdout",
     "output_type": "stream",
     "text": [
      "영어영문\n",
      "<class 'list'>\n",
      "<class 'type'>\n"
     ]
    }
   ],
   "source": [
    "# 집합자료구조를 이용하면 조금 더 나은 표현이 된다.\n",
    "# list를 이용해서 표현\n",
    "stu_name = ['홍길동', '김길동', '신사임당']\n",
    "stu_dept = ['철학', '영어영문', '컴퓨터']\n",
    "stu_num = ['20200111', '20200113', '20200115']\n",
    "stu_grade = [3.5, 4.5, 1.5]\n",
    "\n",
    "# 확실하게 모듈화가 되어 있지 않고, index를 이용해서 프로그램 처리를 해야함.\n",
    "# 생각보다 프로그래밍을 어렵게 만드는 요소.\n",
    "\n",
    "# 이제 객체지향적으로 표현해 보자\n",
    "# 학생\n",
    "#     - 속성 : 이름, 학과, 학번, 학점\n",
    "#     - 기능 : 자신의 정보를 문자열로 만들어서 리턴한다.\n",
    "\n",
    "# 사용자 정의 class를 만들때는 class명을 반드시 첫글자를 대문자로 작성.\n",
    "# python의 모든 class는 object class를 상속하고 있다.\n",
    "\n",
    "class Student(object):\n",
    "    # initializer(생성자-constructor)\n",
    "    def __init__(self, name, dept, num, grade):\n",
    "        # 속성을 __init__ 안에서 명시한다.\n",
    "        self.name = name     # 전달된 값으로 이름속성을 설정. self.name은 class가 가지는 속성, 뒤의 name은 인자로 들어오는 일반 변수\n",
    "        self.dept = dept\n",
    "        self.num = num\n",
    "        self.grade = grade\n",
    "\n",
    "# 이제 instance를 만들어 보자(객체를 만들어보자)\n",
    "\n",
    "students = []\n",
    "students.append(Student('홍길동', '철학', '20200111', 1.5)) # 객체 생성\n",
    "students.append(Student('김길동', '영어영문', '20200113', 3.5)) # 객체 생성\n",
    "students.append(Student('신사임당', '컴퓨터', '20200115', 4.5)) # 객체 생성\n",
    "\n",
    "# 두번째 객체인 김길동의 학과를 출력해보자\n",
    "# 객체가 가지는 속성이나 method를 access(사용)할때는 연산자를 이용 '.'\n",
    "# dot operator라고 한다.\n",
    "print(students[1].dept)   # ','을 기준으로 앞에 있는 것은 객체, 뒤에 있는 것은 속성이나 method\n",
    "\n",
    "\n",
    "# stu1 = Student('홍길동', '철학', '20200111', 1.5)   # 객체 생성\n",
    "#        일정량의 메모리 공간이 할당되고 그 메모리 시작주소가 리턴된다.\n",
    "#         stu1 : 메모리 주소를 가지고 있는 변수 : 참조변수 : reference variable\n",
    "\n",
    "# python에서 모든 class는 상속관계에 있다. class는 계층관계\n",
    "# object는 최상위 class. 적어도 object class를 상속하고 있다. object이외에 특정 class 상속도 가능\n",
    "\n",
    "# class안에는 변수와 함수\n",
    "# Java언어에서는 class안의 변수를 field(필드)\n",
    "#                class안의 함수를 method(메소드)\n",
    "# C++언어에서는  class안의 변수를 member variable(멤버변수)\n",
    "#                class안의 함수를 member function(멤버함수)\n",
    "# python언어에서는 class안의 변수를 property(속성,프로퍼티)\n",
    "#                  class안의 함수를 method(메소드)\n",
    "\n",
    "my_list = list()          # list class의 instance를 생성하는 코드\n",
    "print(type(my_list))         # type()이 하는 일은 인스턴스가 어떤 class로부터\n",
    "                             # 파생되었는지를 return한다.\n",
    "    \n",
    "# type()은 모듈class가 가지고 있는 method\n",
    "\n",
    "print(type(type)) # ===> ? type이라는 클래스도 존재?"
   ]
  },
  {
   "cell_type": "code",
   "execution_count": 32,
   "metadata": {},
   "outputs": [
    {
     "name": "stdout",
     "output_type": "stream",
     "text": [
      "이름 : 강감찬, 학과 : 경영학과\n"
     ]
    }
   ],
   "source": [
    "class Student(object):\n",
    "    # initializer(생성자-constructor)\n",
    "    def __init__(self, name, dept, num, grade):\n",
    "        # 속성을 __init__ 안에서 명시한다.\n",
    "        self.name = name     # 전달된 값으로 이름속성을 설정. self.name은 class가 가지는 속성, 뒤의 name은 인자로 들어오는 일반 변수\n",
    "        self.dept = dept\n",
    "        self.num = num\n",
    "        self.grade = grade\n",
    "        \n",
    "    # 아래의 method는 객체가 가지고 있는 학생의 정보를 문자열로\n",
    "    # 리턴하는 역할을 수행하는 method\n",
    "    def get_stu_info(self):\n",
    "        return '이름 : {}, 학과 : {}'.format(self.name,self.dept)\n",
    "    \n",
    "stu1 = Student('강감찬', '경영학과', '20201120', 3.4)\n",
    "print(stu1.get_stu_info())\n",
    "\n",
    "# python에서 함수는 객체다."
   ]
  }
 ],
 "metadata": {
  "kernelspec": {
   "display_name": "Python [conda env:data_env] *",
   "language": "python",
   "name": "conda-env-data_env-py"
  },
  "language_info": {
   "codemirror_mode": {
    "name": "ipython",
    "version": 3
   },
   "file_extension": ".py",
   "mimetype": "text/x-python",
   "name": "python",
   "nbconvert_exporter": "python",
   "pygments_lexer": "ipython3",
   "version": "3.7.9"
  }
 },
 "nbformat": 4,
 "nbformat_minor": 4
}
