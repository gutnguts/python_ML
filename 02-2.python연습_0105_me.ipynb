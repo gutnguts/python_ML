{
 "cells": [
  {
   "cell_type": "code",
   "execution_count": 8,
   "metadata": {},
   "outputs": [
    {
     "name": "stdout",
     "output_type": "stream",
     "text": [
      "233168\n"
     ]
    }
   ],
   "source": [
    "# 문제 1\n",
    "sum = 0\n",
    "idx = 0\n",
    "while idx < 1000:\n",
    "    if idx % 3 == 0:\n",
    "        sum += idx\n",
    "    elif idx % 5 == 0:\n",
    "        sum += idx\n",
    "    else:\n",
    "        pass\n",
    "    idx += 1\n",
    "\n",
    "print(sum)"
   ]
  },
  {
   "cell_type": "code",
   "execution_count": 9,
   "metadata": {},
   "outputs": [
    {
     "name": "stdout",
     "output_type": "stream",
     "text": [
      "6291454\n"
     ]
    }
   ],
   "source": [
    "# 문제 2\n",
    "sum = 0\n",
    "idx = 1\n",
    "idx1 = 2\n",
    "while idx < 4000000:\n",
    "    idx += idx + idx1    \n",
    "print(idx)"
   ]
  },
  {
   "cell_type": "code",
   "execution_count": 16,
   "metadata": {
    "scrolled": true
   },
   "outputs": [
    {
     "ename": "SyntaxError",
     "evalue": "invalid syntax (<ipython-input-16-55d683a3d5bf>, line 3)",
     "output_type": "error",
     "traceback": [
      "\u001b[1;36m  File \u001b[1;32m\"<ipython-input-16-55d683a3d5bf>\"\u001b[1;36m, line \u001b[1;32m3\u001b[0m\n\u001b[1;33m    print(for Q.count('a') in a if a.count('a') >= a.count('b'))\u001b[0m\n\u001b[1;37m            ^\u001b[0m\n\u001b[1;31mSyntaxError\u001b[0m\u001b[1;31m:\u001b[0m invalid syntax\n"
     ]
    }
   ],
   "source": [
    "Q = 'This is a sample Program mississippi river'\n",
    "a=[a,b,c,d,e,f,g,h,i,j,k,l,m,n,o,p,q,r,s,t,u,v,w,x,y,z]\n",
    "print(for Q.count('a') in a if a.count('a') >= a.count('b')) "
   ]
  },
  {
   "cell_type": "code",
   "execution_count": 27,
   "metadata": {},
   "outputs": [
    {
     "name": "stdout",
     "output_type": "stream",
     "text": [
      "I\n"
     ]
    }
   ],
   "source": [
    "# 문제 3\n",
    "ex = 'This is a sample Program mississippi river'\n",
    "ex = ex.upper().replace(' ','')\n",
    "set_ = sorted(set(ex))\n",
    "max_count = 0\n",
    "for i in set_:\n",
    "    if ex.count(i)>max_count:\n",
    "        max_count = ex.count(i)\n",
    "        max_str=i\n",
    "print(max_str)"
   ]
  },
  {
   "cell_type": "code",
   "execution_count": 38,
   "metadata": {},
   "outputs": [
    {
     "name": "stdout",
     "output_type": "stream",
     "text": [
      "(83, 69, 2, 39, 16)\n"
     ]
    }
   ],
   "source": [
    "# 문제 4\n",
    "import random\n",
    "\n",
    "a = random.randint(1,42)\n",
    "b = random.randint(1,42)\n",
    "c = random.randint(1,42)\n",
    "d = random.randint(1,42)\n",
    "e = random.randint(1,42)\n",
    "f = random.randint(1,42)\n",
    "RT = (a, b, c, d, e, f)\n",
    "\n"
   ]
  },
  {
   "cell_type": "code",
   "execution_count": null,
   "metadata": {},
   "outputs": [],
   "source": [
    "# 문제 5\n",
    "\n"
   ]
  },
  {
   "cell_type": "code",
   "execution_count": null,
   "metadata": {},
   "outputs": [],
   "source": [
    "# 문제 6\n",
    "\n",
    "x = "
   ]
  },
  {
   "cell_type": "code",
   "execution_count": 50,
   "metadata": {},
   "outputs": [],
   "source": [
    "# 문제 7\n",
    "x = 5\n",
    "while x % 2 == 0 and x % 3 == 0 and x % 4 == 0 and x % 5 == 0 and x % 6 == 0 and x % 7 == 0 and x % 8 == 0 and x % 9 == 0 and x % 10 == 0:\n",
    "    print(x)\n",
    "    x += 1"
   ]
  },
  {
   "cell_type": "code",
   "execution_count": 59,
   "metadata": {},
   "outputs": [
    {
     "name": "stdout",
     "output_type": "stream",
     "text": [
      "1\n"
     ]
    }
   ],
   "source": [
    "# 문제 7\n",
    "a = 1\n",
    "for x in range(1,10):\n",
    "    if a % x == 0:\n",
    "        print(a)\n",
    "    else:\n",
    "        a += 1"
   ]
  },
  {
   "cell_type": "code",
   "execution_count": null,
   "metadata": {},
   "outputs": [],
   "source": []
  }
 ],
 "metadata": {
  "kernelspec": {
   "display_name": "Python [conda env:data_env] *",
   "language": "python",
   "name": "conda-env-data_env-py"
  },
  "language_info": {
   "codemirror_mode": {
    "name": "ipython",
    "version": 3
   },
   "file_extension": ".py",
   "mimetype": "text/x-python",
   "name": "python",
   "nbconvert_exporter": "python",
   "pygments_lexer": "ipython3",
   "version": "3.7.9"
  }
 },
 "nbformat": 4,
 "nbformat_minor": 4
}
