{
 "cells": [
  {
   "cell_type": "code",
   "execution_count": null,
   "metadata": {},
   "outputs": [],
   "source": [
    "# python 연습문제 2 - class를 사용해서 풀자 (수행평가2)\n",
    "\n",
    "class Car(object):\n",
    "    def __init__(self,car_data):\n",
    "        print(car_data)\n",
    "        # audi,a4,1.8,1999,4,auto(I5),f,18,29,p,compact\n",
    "        # ','를 기준으로 문자열을 split 시켜야 한다\n",
    "        # 각각의 항목을 얻은 다음 아래와 같이 property에 넣어야 한다.\n",
    "#         self.manufacturer = manufacturer\n",
    "#         self.model = model\n",
    "#         self.displ = displ\n",
    "#         self.year = year\n",
    "#         \n"
   ]
  }
 ],
 "metadata": {
  "kernelspec": {
   "display_name": "Python [conda env:data_env] *",
   "language": "python",
   "name": "conda-env-data_env-py"
  },
  "language_info": {
   "codemirror_mode": {
    "name": "ipython",
    "version": 3
   },
   "file_extension": ".py",
   "mimetype": "text/x-python",
   "name": "python",
   "nbconvert_exporter": "python",
   "pygments_lexer": "ipython3",
   "version": "3.7.9"
  }
 },
 "nbformat": 4,
 "nbformat_minor": 4
}
